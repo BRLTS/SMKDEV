{
  "nbformat": 4,
  "nbformat_minor": 0,
  "metadata": {
    "colab": {
      "provenance": [],
      "authorship_tag": "ABX9TyNHm4FDb4YoHXIgLfIs4JZp",
      "include_colab_link": true
    },
    "kernelspec": {
      "name": "python3",
      "display_name": "Python 3"
    },
    "language_info": {
      "name": "python"
    }
  },
  "cells": [
    {
      "cell_type": "markdown",
      "metadata": {
        "id": "view-in-github",
        "colab_type": "text"
      },
      "source": [
        "<a href=\"https://colab.research.google.com/github/BRLTS/SMKDEV/blob/main/Simple_Shop_Receipt_Analyst.ipynb\" target=\"_parent\"><img src=\"https://colab.research.google.com/assets/colab-badge.svg\" alt=\"Open In Colab\"/></a>"
      ]
    },
    {
      "cell_type": "code",
      "source": [
        "# Dictionary utama untuk menyimpan struk belanja\n",
        "struk = {}"
      ],
      "metadata": {
        "id": "6n-5YNUAZj-2"
      },
      "execution_count": null,
      "outputs": []
    },
    {
      "cell_type": "code",
      "source": [
        "# Fungsi untuk menambahkan item\n",
        "def tambah_item(nama, harga):\n",
        "    if nama in struk:\n",
        "        print(f\"Item '{nama}' sudah ada di struk. Tidak ditambahkan ulang.\")\n",
        "    else:\n",
        "        struk[nama] = harga\n",
        "        print(f\"Item '{nama}' berhasil ditambahkan.\")"
      ],
      "metadata": {
        "id": "Mt4rQ8B8ZnbS"
      },
      "execution_count": null,
      "outputs": []
    },
    {
      "cell_type": "code",
      "source": [
        "# Fungsi untuk menambahkan item\n",
        "def tambah_item(nama, harga):\n",
        "    if nama in struk:\n",
        "        print(f\"Item '{nama}' sudah ada di struk. Tidak ditambahkan ulang.\")\n",
        "    else:\n",
        "        struk[nama] = harga\n",
        "        print(f\"Item '{nama}' berhasil ditambahkan.\")\n",
        "\n",
        "# Fungsi untuk menghitung total belanja\n",
        "def hitung_total():\n",
        "    total = sum(struk.values())\n",
        "    print(f\"\\nTotal belanja: Rp{total:,}\\n\")\n",
        "\n",
        "# Fungsi untuk mencari item termahal\n",
        "def cari_termahal():\n",
        "    if struk:\n",
        "        nama, harga = max(struk.items(), key=lambda item: item[1])\n",
        "        print(f\"\\nItem termahal: {nama} (Rp{harga:,})\\n\")\n",
        "    else:\n",
        "        print(\"Struk kosong.\")\n",
        "\n",
        "# Fungsi untuk mencari item termurah\n",
        "def cari_termurah():\n",
        "    if struk:\n",
        "        nama, harga = min(struk.items(), key=lambda item: item[1])\n",
        "        print(f\"\\nItem termurah: {nama} (Rp{harga:,})\\n\")\n",
        "    else:\n",
        "        print(\"Struk kosong.\")\n",
        "\n",
        "# Fungsi untuk menampilkan struk (tanpa duplikat)\n",
        "def lihat_struk():\n",
        "    if struk:\n",
        "        print(\"\\nDaftar Belanja:\")\n",
        "        for nama, harga in struk.items():\n",
        "            print(f\"- {nama}: Rp{harga:,}\")\n",
        "    else:\n",
        "        print(\"Struk kosong.\")\n",
        "\n",
        "# Fungsi untuk menghapus duplikat berdasarkan nama item\n",
        "def hapus_duplikat(data):\n",
        "    unik = {}\n",
        "    for nama, harga in data.items():\n",
        "        if nama not in unik:\n",
        "            unik[nama] = harga\n",
        "    return unik"
      ],
      "metadata": {
        "id": "rQJpzDLTZo8y"
      },
      "execution_count": null,
      "outputs": []
    },
    {
      "cell_type": "code",
      "execution_count": null,
      "metadata": {
        "id": "lhWM6_uuYJLk"
      },
      "outputs": [],
      "source": [
        "# Menu utama\n",
        "def menu():\n",
        "    while True:\n",
        "        print(\"\\n=== Menu Struk Belanja ===\")\n",
        "        print(\"1. Tambah Item\")\n",
        "        print(\"2. Cek Struk\")\n",
        "        print(\"3. Hitung Total\")\n",
        "        print(\"4. Item Termahal\")\n",
        "        print(\"5. Item Termurah\")\n",
        "        print(\"6. Keluar\")\n",
        "        menu = input(\"Pilih menu (1-6): \")\n",
        "\n",
        "        if menu == \"1\":\n",
        "            item = input(\"Nama item: \").strip()\n",
        "            try:\n",
        "                harga = int(input(\"Harga item: \"))\n",
        "                tambah_item(item, harga)\n",
        "            except ValueError:\n",
        "                print(\"Harga harus berupa angka.\")\n",
        "        elif pilihan == \"2\":\n",
        "            lihat_struk()\n",
        "        elif pilihan == \"3\":\n",
        "            hitung_total()\n",
        "        elif pilihan == \"4\":\n",
        "            cari_termahal()\n",
        "        elif pilihan == \"5\":\n",
        "            cari_termurah()\n",
        "        elif pilihan == \"6\":\n",
        "            print(\"Terima kasih! Program selesai.\")\n",
        "            break\n",
        "        else:\n",
        "            print(\"Pilihan tidak valid. Silakan coba lagi.\")\n",
        "\n",
        "# Jalankan program\n",
        "menu()"
      ]
    },
    {
      "cell_type": "markdown",
      "source": [
        "--INDONESIAN-- PERTANYAAN REFLEKSI\n",
        "\n",
        "1. Apa kelebihan dictionary dibanding list dalam hal ini?\n",
        "\n",
        "> Dictionary memungkinkan kita menyimpan data dalam bentuk pasangan key-value,  seperti nama item dan harga.\n",
        "\n",
        "> Akses ke item jadi lebih cepat dan mudah (struk[\"Aqua\"] langsung menunjuk ke harganya).\n",
        "\n",
        "> Mencegah duplikasi item secara alami karena key (nama item) di dictionary tidak bisa ganda.\n",
        "\n",
        "> Berbeda dengan list, yang menyimpan data secara berurutan dan memerlukan index, sehingga pencarian atau pengolahan data bisa lebih rumit.\n",
        "\n",
        "2. agaimana cara mencegah item yang sama dimasukkan dua kali?\n",
        "\n",
        "> Dalam program, kita mengecek apakah nama item sudah ada di dictionary struk sebelum menambah item.\n",
        "\n",
        "```\n",
        "if nama in struk:\n",
        "    print(\"Item sudah ada.\")\n",
        "```\n",
        "> Ini memastikan bahwa item dengan nama yang sama tidak dimasukkan dua kali.\n",
        "\n",
        "> Alternatif lain bisa menggunakan set untuk menyaring nama-nama item yang sama jika disimpan dalam list."
      ],
      "metadata": {
        "id": "RLCO8pSnZ4NM"
      }
    },
    {
      "cell_type": "markdown",
      "source": [
        "--ENGLISH-- REFLECTIVE QUESTIONS\n",
        "\n",
        "1. What are the advantages of using a dictionary over a list in this case?\n",
        "\n",
        "> A dictionary allows us to store data as key-value pairs, such as item name and price.\n",
        "\n",
        "> Accessing items is faster and more direct. For example, struk[\"Aqua\"] immediately retrieves the price.\n",
        "\n",
        "> Dictionaries naturally prevent duplicate keys, so the same item name can't be added twice.\n",
        "\n",
        "> In contrast, a list stores data sequentially and relies on index positions, which can make searching or processing more complex.\n",
        "\n",
        "2. How can you prevent the same item from being added twice?\n",
        "\n",
        "> In the program, we check whether the item name already exists in the \"struk\" dictionary before adding it.\n",
        "\n",
        "\n",
        "\n",
        "```\n",
        "if nama in struk:\n",
        "    print(\"Item already exists.\")\n",
        "\n",
        "```\n",
        "\n",
        "> This ensures that the same item name won’t be added more than once.\n",
        "\n",
        "> Alternatively, if using a list, a set can help filter out duplicate names.\n"
      ],
      "metadata": {
        "id": "MVYmSRVVa1LB"
      }
    }
  ]
}