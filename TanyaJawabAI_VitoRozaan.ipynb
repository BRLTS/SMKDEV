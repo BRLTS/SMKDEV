{
  "nbformat": 4,
  "nbformat_minor": 0,
  "metadata": {
    "colab": {
      "provenance": [],
      "authorship_tag": "ABX9TyOuLVYP+lVYnNZDyB4L60Oe",
      "include_colab_link": true
    },
    "kernelspec": {
      "name": "python3",
      "display_name": "Python 3"
    },
    "language_info": {
      "name": "python"
    }
  },
  "cells": [
    {
      "cell_type": "markdown",
      "metadata": {
        "id": "view-in-github",
        "colab_type": "text"
      },
      "source": [
        "<a href=\"https://colab.research.google.com/github/BRLTS/SMKDEV/blob/main/TanyaJawabAI_VitoRozaan.ipynb\" target=\"_parent\"><img src=\"https://colab.research.google.com/assets/colab-badge.svg\" alt=\"Open In Colab\"/></a>"
      ]
    },
    {
      "cell_type": "markdown",
      "source": [
        "# Tanya Jawab AI Menggunakan Gemini\n",
        "\n",
        "# By Vito Rozaan Alandeta | SSEC Kelas #8\n",
        "\n",
        "# Isi Notebook:\n",
        "✅ Instalasi library google-generativeai\n",
        "\n",
        "✅ Konfigurasi API Key Gemini\n",
        "\n",
        "✅ Fungsi menampilkan riwayat\n",
        "\n",
        "✅ Fungsi chat tanya-jawab\n",
        "\n",
        "✅ Menyimpan jawaban ke riwayat.txt\n",
        "\n",
        "✅ Fitur unduh riwayat"
      ],
      "metadata": {
        "id": "6Y-1cVHTYFxA"
      }
    },
    {
      "cell_type": "code",
      "source": [
        "# 1. Install Library Gemini Terbaru\n",
        "!pip install -q google-generativeai\n",
        "\n",
        "# 2. Import dan Setup API Key\n",
        "import google.generativeai as genai\n",
        "\n",
        "# Ganti ini dengan API key dari https://aistudio.google.com/app/apikey\n",
        "genai.configure(api_key=\"__________\")\n",
        "\n",
        "# 3. Load Model Gemini\n",
        "try:\n",
        "    model = genai.GenerativeModel(\"gemini-1.5-flash\")  # atau \"gemini-1.5-pro\"\n",
        "    print(\"Model berhasil dimuat.\")\n",
        "except Exception as e:\n",
        "    print(f\"Gagal memuat model: {e}\")\n"
      ],
      "metadata": {
        "colab": {
          "base_uri": "https://localhost:8080/"
        },
        "id": "7ZQl6jl7Q2AL",
        "outputId": "726747ca-63d6-48c5-ef12-bf6041c293aa"
      },
      "execution_count": 1,
      "outputs": [
        {
          "output_type": "stream",
          "name": "stdout",
          "text": [
            "Model berhasil dimuat.\n"
          ]
        }
      ]
    },
    {
      "cell_type": "code",
      "source": [
        "# Menampilkan Riwayat Q&A\n",
        "def show_history(n=3):\n",
        "    try:\n",
        "        with open(\"riwayat.txt\", \"r\", encoding=\"utf-8\") as f:\n",
        "            lines = f.readlines()\n",
        "            last_entries = lines[-n*3:]\n",
        "            print(\"\\n--- Last History ---\")\n",
        "            print(\"\".join(last_entries))\n",
        "    except FileNotFoundError:\n",
        "        print(\"No history found.\\n\")\n",
        "\n",
        "# Fitur Chat AI\n",
        "def chat_ai():\n",
        "    show_history()\n",
        "\n",
        "    while True:\n",
        "        question = input(\"Masukkan pertanyaan (atau 'keluar' untuk berhenti): \")\n",
        "        if question.lower() == \"keluar\":\n",
        "            print(\"Terima kasih sudah bertanya.\")\n",
        "            break\n",
        "\n",
        "        try:\n",
        "            response = model.generate_content(question)\n",
        "            answer = response.text\n",
        "        except Exception as e:\n",
        "            answer = f\"[Terjadi Error: {e}]\"\n",
        "\n",
        "        print(\"\\nJawaban AI:\\n\", answer)\n",
        "\n",
        "        # Simpan Riwayat\n",
        "        with open(\"riwayat.txt\", \"a\", encoding=\"utf-8\") as f:\n",
        "            f.write(f\"Q: {question}\\nA: {answer}\\n\\n\")\n",
        "\n",
        "# Launch Chat\n",
        "chat_ai()"
      ],
      "metadata": {
        "colab": {
          "base_uri": "https://localhost:8080/",
          "height": 922
        },
        "id": "KHOFhnZIS3a0",
        "outputId": "8bcae6a2-65ea-410b-be1a-e2724d9e8599"
      },
      "execution_count": 4,
      "outputs": [
        {
          "name": "stdout",
          "output_type": "stream",
          "text": [
            "Belum ada riwayat.\n",
            "\n",
            "Masukkan pertanyaan (atau 'keluar' untuk berhenti): apa itu umamusume\n",
            "\n",
            "Jawaban AI:\n",
            " Umamusume Pretty Derby (ウマ娘 プリティーダービー) adalah sebuah franchise multimedia Jepang yang menampilkan karakter antropomorfik dari kuda pacu terkenal.  Franchise ini mencakup berbagai media, termasuk:\n",
            "\n",
            "* **Anime:**  Serial anime utama adalah titik awal yang paling dikenal banyak orang, menceritakan kisah gadis-gadis yang merupakan reinkarnasi dari kuda pacu legendaris, yang berjuang untuk mencapai puncak dunia pacuan kuda.\n",
            "\n",
            "* **Game mobile:** Sebuah game mobile gacha yang sangat populer, di mana pemain mengumpulkan dan melatih Umamusume mereka sendiri, berlomba melawan pemain lain, dan meningkatkan kemampuan mereka.  Ini adalah inti dari franchise dan seringkali menjadi pintu masuk utama bagi penggemar baru.\n",
            "\n",
            "* **Manga:** Beberapa manga telah diterbitkan, yang memperluas cerita dan karakter dari franchise.\n",
            "\n",
            "* **Game arcade:** Game arcade juga tersedia.\n",
            "\n",
            "Pada dasarnya, Umamusume adalah campuran antara olahraga, pelatihan, persahabatan, dan elemen *idol*.  Meskipun berfokus pada pacuan kuda, inti cerita sering kali berfokus pada persahabatan, kerja keras, dan mengejar mimpi.  Karakter-karakternya dirancang dengan gaya *moe* (gaya karakter Jepang yang lucu dan menggemaskan) dan memiliki kepribadian yang unik, berdasarkan pada kuda pacu yang mereka wakili.\n",
            "\n",
            "Masukkan pertanyaan (atau 'keluar' untuk berhenti): Karakter utama umamusume\n"
          ]
        },
        {
          "output_type": "stream",
          "name": "stderr",
          "text": [
            "ERROR:tornado.access:503 POST /v1beta/models/gemini-1.5-flash:generateContent?%24alt=json%3Benum-encoding%3Dint (127.0.0.1) 5936.60ms\n",
            "ERROR:tornado.access:503 POST /v1beta/models/gemini-1.5-flash:generateContent?%24alt=json%3Benum-encoding%3Dint (127.0.0.1) 3890.66ms\n"
          ]
        },
        {
          "name": "stdout",
          "output_type": "stream",
          "text": [
            "\n",
            "Jawaban AI:\n",
            " Tidak ada satu karakter utama tunggal dalam seri *Uma Musume Pretty Derby*.  Cerita berfokus pada *ensemble cast*,  sekelompok gadis-gadis yang merupakan inkarnasi dari kuda pacu terkenal.  Meskipun beberapa karakter memiliki peran lebih besar dan lebih banyak sorotan daripada yang lain,  tidak ada karakter yang secara konsisten menjadi tokoh pusat di semua cerita.\n",
            "\n",
            "Namun, beberapa karakter yang sering dianggap sebagai tokoh utama atau karakter sentral, antara lain:\n",
            "\n",
            "* **Special Week:**  Sering menjadi pusat cerita di musim pertama anime.\n",
            "* **T M Opera O:** Memiliki peran penting dan sorotan yang signifikan di sepanjang seri.\n",
            "* **Silent Bloom:** Memiliki peran krusial di musim kedua dan sering menjadi fokus cerita.\n",
            "\n",
            "Pada akhirnya, siapa yang dianggap sebagai \"karakter utama\"  sangat subjektif dan bergantung pada preferensi masing-masing penonton.  Kekuatan *Uma Musume* terletak pada *ensemble cast*-nya dan hubungan antar karakternya.\n",
            "\n",
            "Masukkan pertanyaan (atau 'keluar' untuk berhenti): Siapa itu Maruzensky\n"
          ]
        },
        {
          "output_type": "stream",
          "name": "stderr",
          "text": [
            "ERROR:tornado.access:503 POST /v1beta/models/gemini-1.5-flash:generateContent?%24alt=json%3Benum-encoding%3Dint (127.0.0.1) 582.31ms\n",
            "ERROR:tornado.access:503 POST /v1beta/models/gemini-1.5-flash:generateContent?%24alt=json%3Benum-encoding%3Dint (127.0.0.1) 581.99ms\n",
            "ERROR:tornado.access:503 POST /v1beta/models/gemini-1.5-flash:generateContent?%24alt=json%3Benum-encoding%3Dint (127.0.0.1) 2122.19ms\n",
            "ERROR:tornado.access:503 POST /v1beta/models/gemini-1.5-flash:generateContent?%24alt=json%3Benum-encoding%3Dint (127.0.0.1) 5683.25ms\n",
            "ERROR:tornado.access:503 POST /v1beta/models/gemini-1.5-flash:generateContent?%24alt=json%3Benum-encoding%3Dint (127.0.0.1) 607.16ms\n",
            "ERROR:tornado.access:503 POST /v1beta/models/gemini-1.5-flash:generateContent?%24alt=json%3Benum-encoding%3Dint (127.0.0.1) 683.39ms\n",
            "ERROR:tornado.access:503 POST /v1beta/models/gemini-1.5-flash:generateContent?%24alt=json%3Benum-encoding%3Dint (127.0.0.1) 582.09ms\n",
            "ERROR:tornado.access:503 POST /v1beta/models/gemini-1.5-flash:generateContent?%24alt=json%3Benum-encoding%3Dint (127.0.0.1) 708.69ms\n",
            "ERROR:tornado.access:503 POST /v1beta/models/gemini-1.5-flash:generateContent?%24alt=json%3Benum-encoding%3Dint (127.0.0.1) 4042.07ms\n",
            "ERROR:tornado.access:503 POST /v1beta/models/gemini-1.5-flash:generateContent?%24alt=json%3Benum-encoding%3Dint (127.0.0.1) 632.56ms\n",
            "ERROR:tornado.access:503 POST /v1beta/models/gemini-1.5-flash:generateContent?%24alt=json%3Benum-encoding%3Dint (127.0.0.1) 835.83ms\n",
            "ERROR:tornado.access:503 POST /v1beta/models/gemini-1.5-flash:generateContent?%24alt=json%3Benum-encoding%3Dint (127.0.0.1) 2805.22ms\n"
          ]
        },
        {
          "output_type": "stream",
          "name": "stdout",
          "text": [
            "\n",
            "Jawaban AI:\n",
            " Maruzensky adalah nama kuda pacu legendaris Jepang yang lahir pada tahun 1990. Ia terkenal karena prestasi gemilangnya di berbagai perlombaan kelas atas, terutama di Jepang.  Meskipun detail spesifik prestasi dan silsilahnya memerlukan penelusuran lebih lanjut di basis data balap kuda,  nama \"Maruzensky\" terkait erat dengan kuda-kuda pacu berkualitas tinggi di Jepang.  Nama ini mungkin juga merujuk pada nama pemilik, peternak, atau pelatih yang terkait dengan kuda-kuda terkenal tersebut.  Untuk informasi yang lebih spesifik tentang kuda pacu tertentu yang bernama Maruzensky, Anda perlu menyebutkan nama lengkapnya (misalnya, Maruzensky Arch).\n",
            "\n",
            "Masukkan pertanyaan (atau 'keluar' untuk berhenti): keluar\n",
            "Terima kasih sudah bertanya.\n"
          ]
        }
      ]
    },
    {
      "cell_type": "code",
      "source": [
        "from google.colab import files\n",
        "files.download(\"riwayat.txt\")"
      ],
      "metadata": {
        "colab": {
          "base_uri": "https://localhost:8080/",
          "height": 17
        },
        "id": "L982yELRVFDS",
        "outputId": "274a60f7-e9e5-48f2-da23-4cf08e1db8d7"
      },
      "execution_count": 5,
      "outputs": [
        {
          "output_type": "display_data",
          "data": {
            "text/plain": [
              "<IPython.core.display.Javascript object>"
            ],
            "application/javascript": [
              "\n",
              "    async function download(id, filename, size) {\n",
              "      if (!google.colab.kernel.accessAllowed) {\n",
              "        return;\n",
              "      }\n",
              "      const div = document.createElement('div');\n",
              "      const label = document.createElement('label');\n",
              "      label.textContent = `Downloading \"${filename}\": `;\n",
              "      div.appendChild(label);\n",
              "      const progress = document.createElement('progress');\n",
              "      progress.max = size;\n",
              "      div.appendChild(progress);\n",
              "      document.body.appendChild(div);\n",
              "\n",
              "      const buffers = [];\n",
              "      let downloaded = 0;\n",
              "\n",
              "      const channel = await google.colab.kernel.comms.open(id);\n",
              "      // Send a message to notify the kernel that we're ready.\n",
              "      channel.send({})\n",
              "\n",
              "      for await (const message of channel.messages) {\n",
              "        // Send a message to notify the kernel that we're ready.\n",
              "        channel.send({})\n",
              "        if (message.buffers) {\n",
              "          for (const buffer of message.buffers) {\n",
              "            buffers.push(buffer);\n",
              "            downloaded += buffer.byteLength;\n",
              "            progress.value = downloaded;\n",
              "          }\n",
              "        }\n",
              "      }\n",
              "      const blob = new Blob(buffers, {type: 'application/binary'});\n",
              "      const a = document.createElement('a');\n",
              "      a.href = window.URL.createObjectURL(blob);\n",
              "      a.download = filename;\n",
              "      div.appendChild(a);\n",
              "      a.click();\n",
              "      div.remove();\n",
              "    }\n",
              "  "
            ]
          },
          "metadata": {}
        },
        {
          "output_type": "display_data",
          "data": {
            "text/plain": [
              "<IPython.core.display.Javascript object>"
            ],
            "application/javascript": [
              "download(\"download_267657b9-e8c2-463e-a58a-7cb80f7ff5d9\", \"riwayat.txt\", 2978)"
            ]
          },
          "metadata": {}
        }
      ]
    },
    {
      "cell_type": "markdown",
      "source": [
        "# Refleksi Pribadi\n",
        "\n",
        "> Apa tantangan utama dalam membangun aplikasi ini?\n",
        "\n",
        "Tantangan terbesar dalam pembuatan program ini adalah memilih API AI yang tepat. Maksud dari \"tepat\" di sini adalah API yang bisa digunakan secara gratis. Awalnya, saya mencoba menggunakan OpenAI, namun ternyata API tersebut memerlukan akun berbayar (pro) agar bisa digunakan. Selain itu, saya juga mengalami berbagai error dan peringatan saat menjalankan kode, seperti Error Code 503 yang terus muncul.\n",
        "\n",
        "> Apa pelajaran paling penting tentang penggunaan API?\n",
        "\n",
        "Hal paling penting yang saya pelajari adalah bahwa API Key merupakan semacam kata sandi rahasia yang memberikan akses ke layanan AI. Jika API Key tidak dijaga dengan baik, orang lain bisa menyalahgunakannya, yang dapat menyebabkan tagihan di akun kita membengkak akibat penggunaan yang tidak sah atau berlebihan.\n",
        "\n",
        "\n",
        "> Bagian mana dari aplikasi yang kamu banggakan?\n",
        "\n",
        "Saya bangga dengan keseluruhan program ini. Ini adalah pertama kalinya saya berhasil membuat sebuah aplikasi chat sederhana yang terhubung dengan AI generatif. Saya merasa senang dan puas karena bisa membangun program seperti ini dari awal.\n",
        "\n",
        "> Jika memiliki lebih banyak waktu, apa yang ingin kamu kembangkan lebih lanjut?\n",
        "\n",
        "Jika saya memiliki lebih banyak waktu, saya ingin mengembangkan aplikasi ini menjadi semacam chat AI dengan karakter tertentu yang bisa diatur oleh user. Atau, saya juga ingin mengembangkannya menjadi aplikasi asisten pendukung (support app) yang dapat membantu user secara interaktif."
      ],
      "metadata": {
        "id": "68-DdI3eYrCT"
      }
    }
  ]
}