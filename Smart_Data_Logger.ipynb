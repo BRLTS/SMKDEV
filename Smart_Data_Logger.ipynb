{
  "nbformat": 4,
  "nbformat_minor": 0,
  "metadata": {
    "colab": {
      "provenance": [],
      "authorship_tag": "ABX9TyMjOQV8tIc1EFGHW1psIi6G",
      "include_colab_link": true
    },
    "kernelspec": {
      "name": "python3",
      "display_name": "Python 3"
    },
    "language_info": {
      "name": "python"
    }
  },
  "cells": [
    {
      "cell_type": "markdown",
      "metadata": {
        "id": "view-in-github",
        "colab_type": "text"
      },
      "source": [
        "<a href=\"https://colab.research.google.com/github/BRLTS/SMKDEV/blob/main/Smart_Data_Logger.ipynb\" target=\"_parent\"><img src=\"https://colab.research.google.com/assets/colab-badge.svg\" alt=\"Open In Colab\"/></a>"
      ]
    },
    {
      "cell_type": "markdown",
      "source": [
        "Deskripsi Proyek: Smart Data Logger\n",
        "\n",
        "Program ini bertugas untuk mencatat data sensor (misalnya suhu atau kelembapan), menyimpannya ke dalam file CSV, dan memberikan fitur untuk:\n",
        "\n",
        "> Menambahkan data baru\n",
        "\n",
        "> Melihat seluruh data\n",
        "\n",
        "> Menghitung rata-rata data\n",
        "\n",
        "> Menyimpan ke file\n",
        "\n",
        "> Keluar program"
      ],
      "metadata": {
        "id": "ziV1EFYFjkmT"
      }
    },
    {
      "cell_type": "code",
      "execution_count": 1,
      "metadata": {
        "id": "JhyhB1Ngjfkg"
      },
      "outputs": [],
      "source": [
        "import csv\n",
        "\n",
        "# Menyimpan data dalam list of dictionary\n",
        "data_logger = []"
      ]
    },
    {
      "cell_type": "code",
      "source": [
        "# Menambahkan data baru\n",
        "def tambah_data():\n",
        "    try:\n",
        "        waktu = input(\"Masukkan waktu (misal: 2025-07-03 15:30): \")\n",
        "        suhu = float(input(\"Masukkan suhu (°C): \"))\n",
        "        kelembapan = float(input(\"Masukkan kelembapan (%): \"))\n",
        "        data_logger.append({\n",
        "            \"Waktu\": waktu,\n",
        "            \"Suhu\": suhu,\n",
        "            \"Kelembapan\": kelembapan\n",
        "        })\n",
        "        print(\"Data berhasil ditambahkan!\")\n",
        "    except ValueError:\n",
        "        print(\"Input tidak valid. Pastikan suhu dan kelembapan berupa angka.\")\n",
        "\n",
        "# Menampilkan semua data\n",
        "def lihat_data():\n",
        "    if not data_logger:\n",
        "        print(\"Data masih kosong.\")\n",
        "    else:\n",
        "        print(\"\\nData Logger:\")\n",
        "        for i, data in enumerate(data_logger, start=1):\n",
        "            print(f\"{i}. Waktu: {data['Waktu']}, Suhu: {data['Suhu']}°C, Kelembapan: {data['Kelembapan']}%\")\n",
        "\n",
        "# Menghitung rata-rata\n",
        "def hitung_rata_rata():\n",
        "    if not data_logger:\n",
        "        print(\"Tidak ada data untuk dihitung.\")\n",
        "        return\n",
        "    rata_suhu = sum(d[\"Suhu\"] for d in data_logger) / len(data_logger)\n",
        "    rata_kelembapan = sum(d[\"Kelembapan\"] for d in data_logger) / len(data_logger)\n",
        "    print(f\"Rata-rata Suhu: {rata_suhu:.2f}°C\")\n",
        "    print(f\"Rata-rata Kelembapan: {rata_kelembapan:.2f}%\")\n",
        "\n",
        "# Menyimpan data ke file CSV\n",
        "def simpan_ke_csv():\n",
        "    try:\n",
        "        with open(\"log_data.csv\", \"w\", newline='') as f:\n",
        "            fieldnames = [\"Waktu\", \"Suhu\", \"Kelembapan\"]\n",
        "            writer = csv.DictWriter(f, fieldnames=fieldnames)\n",
        "            writer.writeheader()\n",
        "            writer.writerows(data_logger)\n",
        "        print(\"Data berhasil disimpan ke log_data.csv\")\n",
        "    except Exception as e:\n",
        "        print(\"Gagal menyimpan data:\", e)"
      ],
      "metadata": {
        "id": "TBU_k9arjyAr"
      },
      "execution_count": 2,
      "outputs": []
    },
    {
      "cell_type": "code",
      "source": [
        "# Menu utama\n",
        "def menu():\n",
        "    while True:\n",
        "        print(\"\\n=== Smart Data Logger ===\")\n",
        "        print(\"1. Tambah Data\")\n",
        "        print(\"2. Lihat Semua Data\")\n",
        "        print(\"3. Hitung Rata-rata\")\n",
        "        print(\"4. Simpan ke File CSV\")\n",
        "        print(\"5. Keluar\")\n",
        "        pilihan = input(\"Pilih menu (1-5): \")\n",
        "\n",
        "        if pilihan == \"1\":\n",
        "            tambah_data()\n",
        "        elif pilihan == \"2\":\n",
        "            lihat_data()\n",
        "        elif pilihan == \"3\":\n",
        "            hitung_rata_rata()\n",
        "        elif pilihan == \"4\":\n",
        "            simpan_ke_csv()\n",
        "        elif pilihan == \"5\":\n",
        "            print(\"👋 Terima kasih! Program selesai.\")\n",
        "            break\n",
        "        else:\n",
        "            print(\"❌ Pilihan tidak valid. Coba lagi.\")\n",
        "\n",
        "# Menjalankan program\n",
        "menu()"
      ],
      "metadata": {
        "colab": {
          "base_uri": "https://localhost:8080/"
        },
        "id": "ovdSbzq0j0Oz",
        "outputId": "419295e0-b2fd-4070-ddb5-17744c172166"
      },
      "execution_count": 3,
      "outputs": [
        {
          "output_type": "stream",
          "name": "stdout",
          "text": [
            "\n",
            "=== Smart Data Logger ===\n",
            "1. Tambah Data\n",
            "2. Lihat Semua Data\n",
            "3. Hitung Rata-rata\n",
            "4. Simpan ke File CSV\n",
            "5. Keluar\n",
            "Pilih menu (1-5): 1\n",
            "Masukkan waktu (misal: 2025-07-03 15:30): 2001-08-07 20:30\n",
            "Masukkan suhu (°C): 24\n",
            "Masukkan kelembapan (%): 80\n",
            "Data berhasil ditambahkan!\n",
            "\n",
            "=== Smart Data Logger ===\n",
            "1. Tambah Data\n",
            "2. Lihat Semua Data\n",
            "3. Hitung Rata-rata\n",
            "4. Simpan ke File CSV\n",
            "5. Keluar\n",
            "Pilih menu (1-5): 2\n",
            "\n",
            "Data Logger:\n",
            "1. Waktu: 2001-08-07 20:30, Suhu: 24.0°C, Kelembapan: 80.0%\n",
            "\n",
            "=== Smart Data Logger ===\n",
            "1. Tambah Data\n",
            "2. Lihat Semua Data\n",
            "3. Hitung Rata-rata\n",
            "4. Simpan ke File CSV\n",
            "5. Keluar\n",
            "Pilih menu (1-5): 4\n",
            "Data berhasil disimpan ke log_data.csv\n",
            "\n",
            "=== Smart Data Logger ===\n",
            "1. Tambah Data\n",
            "2. Lihat Semua Data\n",
            "3. Hitung Rata-rata\n",
            "4. Simpan ke File CSV\n",
            "5. Keluar\n",
            "Pilih menu (1-5): 5\n",
            "👋 Terima kasih! Program selesai.\n"
          ]
        }
      ]
    }
  ]
}