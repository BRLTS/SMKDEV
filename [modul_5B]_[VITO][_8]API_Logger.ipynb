{
  "nbformat": 4,
  "nbformat_minor": 0,
  "metadata": {
    "colab": {
      "provenance": [],
      "authorship_tag": "ABX9TyPu1dAKSvvcTG2mE4OS3AXn",
      "include_colab_link": true
    },
    "kernelspec": {
      "name": "python3",
      "display_name": "Python 3"
    },
    "language_info": {
      "name": "python"
    }
  },
  "cells": [
    {
      "cell_type": "markdown",
      "metadata": {
        "id": "view-in-github",
        "colab_type": "text"
      },
      "source": [
        "<a href=\"https://colab.research.google.com/github/BRLTS/SMKDEV/blob/main/%5Bmodul_5B%5D_%5BVITO%5D%5B_8%5DAPI_Logger.ipynb\" target=\"_parent\"><img src=\"https://colab.research.google.com/assets/colab-badge.svg\" alt=\"Open In Colab\"/></a>"
      ]
    },
    {
      "cell_type": "markdown",
      "source": [
        "Mini Project 3 – API Logger\n",
        "\n",
        "Tujuan Proyek:\n",
        "\n",
        "> Mengambil data dari API menggunakan requests\n",
        "\n",
        "> Menyimpan data yang diambil ke file CSV\n",
        "\n",
        "> Menyediakan menu interaktif\n",
        "\n",
        "> Modular dengan fungsi terpisah\n",
        "\n",
        "> Menangani error dengan baik"
      ],
      "metadata": {
        "id": "lbhYpjWZl0h-"
      }
    },
    {
      "cell_type": "markdown",
      "source": [
        "Fitur yang Akan Dibuat:\n",
        "\n",
        "> Ambil data dari API\n",
        "\n",
        "> Tampilkan data terbaru\n",
        "\n",
        "> Simpan data log ke CSV\n",
        "\n",
        "> Lihat seluruh log\n",
        "\n",
        "> Keluar program"
      ],
      "metadata": {
        "id": "RHJ1s8dwl9r3"
      }
    },
    {
      "cell_type": "code",
      "source": [
        "import requests\n",
        "import csv\n",
        "import time\n",
        "\n",
        "# Menyimpan data log dalam list\n",
        "log_data = []"
      ],
      "metadata": {
        "id": "RX4k8ljkmF4u"
      },
      "execution_count": 1,
      "outputs": []
    },
    {
      "cell_type": "code",
      "source": [
        "# Fungsi ambil data API\n",
        "def ambil_data_api():\n",
        "    url = \"https://api.coingecko.com/api/v3/simple/price?ids=bitcoin&vs_currencies=usd\"\n",
        "    try:\n",
        "        response = requests.get(url, timeout=10)\n",
        "        response.raise_for_status()\n",
        "        data = response.json()\n",
        "\n",
        "        harga_usd = data[\"bitcoin\"][\"usd\"]\n",
        "\n",
        "        from datetime import datetime\n",
        "        waktu = datetime.now().strftime(\"%Y-%m-%d %H:%M:%S\")\n",
        "\n",
        "        log_data.append({\n",
        "            \"Waktu\": waktu,\n",
        "            \"Harga USD\": harga_usd\n",
        "        })\n",
        "\n",
        "        print(f\"✅ Data berhasil diambil: {waktu} - ${harga_usd}\")\n",
        "    except requests.exceptions.RequestException as e:\n",
        "        print(f\"Gagal mengambil data: {e}\")\n",
        "    except KeyError:\n",
        "        print(\"Format data API berubah atau tidak lengkap.\")\n",
        "\n",
        "# Fungsi tampilkan log terbaru\n",
        "def tampilkan_terbaru():\n",
        "    if log_data:\n",
        "        print(\"\\nData Terbaru:\")\n",
        "        terakhir = log_data[-1]\n",
        "        print(f\"Waktu: {terakhir['Waktu']}, Harga USD: ${terakhir['Harga USD']}\")\n",
        "    else:\n",
        "        print(\"Belum ada data yang dicatat.\")\n",
        "\n",
        "# Fungsi simpan ke CSV\n",
        "def simpan_ke_csv():\n",
        "    if not log_data:\n",
        "        print(\"Tidak ada data untuk disimpan.\")\n",
        "        return\n",
        "    try:\n",
        "        with open(\"api_log.csv\", \"w\", newline='') as f:\n",
        "            writer = csv.DictWriter(f, fieldnames=[\"Waktu\", \"Harga USD\"])\n",
        "            writer.writeheader()\n",
        "            writer.writerows(log_data)\n",
        "        print(\"Data berhasil disimpan ke api_log.csv\")\n",
        "    except Exception as e:\n",
        "        print(f\"Gagal menyimpan data: {e}\")\n",
        "\n",
        "# Fungsi tampilkan semua log\n",
        "def tampilkan_semua():\n",
        "    if not log_data:\n",
        "        print(\"Belum ada data.\")\n",
        "        return\n",
        "    print(\"\\nSemua Log:\")\n",
        "    for i, entry in enumerate(log_data, start=1):\n",
        "        print(f\"{i}. {entry['Waktu']} - ${entry['Harga USD']}\")"
      ],
      "metadata": {
        "id": "BXfW15R6mGOO"
      },
      "execution_count": 6,
      "outputs": []
    },
    {
      "cell_type": "code",
      "source": [
        "# Menu utama\n",
        "def menu():\n",
        "    while True:\n",
        "        print(\"\\n=== API LOGGER: Bitcoin Price ===\")\n",
        "        print(\"1. Ambil Data dari API\")\n",
        "        print(\"2. Tampilkan Data Terbaru\")\n",
        "        print(\"3. Simpan Log ke CSV\")\n",
        "        print(\"4. Lihat Semua Log\")\n",
        "        print(\"5. Keluar\")\n",
        "        pilih = input(\"Pilih menu (1-5): \")\n",
        "\n",
        "        if pilih == \"1\":\n",
        "            ambil_data_api()\n",
        "        elif pilih == \"2\":\n",
        "            tampilkan_terbaru()\n",
        "        elif pilih == \"3\":\n",
        "            simpan_ke_csv()\n",
        "        elif pilih == \"4\":\n",
        "            tampilkan_semua()\n",
        "        elif pilih == \"5\":\n",
        "            print(\"Program selesai. Terima kasih!\")\n",
        "            break\n",
        "        else:\n",
        "            print(\"Pilihan tidak valid!\")\n",
        "\n",
        "# Jalankan program\n",
        "menu()"
      ],
      "metadata": {
        "colab": {
          "base_uri": "https://localhost:8080/"
        },
        "id": "hFAsIraomKjF",
        "outputId": "fcfad009-84bf-422e-86cf-ca3dcb7fd9f3"
      },
      "execution_count": 7,
      "outputs": [
        {
          "output_type": "stream",
          "name": "stdout",
          "text": [
            "\n",
            "=== API LOGGER: Bitcoin Price ===\n",
            "1. Ambil Data dari API\n",
            "2. Tampilkan Data Terbaru\n",
            "3. Simpan Log ke CSV\n",
            "4. Lihat Semua Log\n",
            "5. Keluar\n",
            "Pilih menu (1-5): 1\n",
            "✅ Data berhasil diambil: 2025-07-03 14:07:41 - $110369\n",
            "\n",
            "=== API LOGGER: Bitcoin Price ===\n",
            "1. Ambil Data dari API\n",
            "2. Tampilkan Data Terbaru\n",
            "3. Simpan Log ke CSV\n",
            "4. Lihat Semua Log\n",
            "5. Keluar\n",
            "Pilih menu (1-5): 2\n",
            "\n",
            "Data Terbaru:\n",
            "Waktu: 2025-07-03 14:07:41, Harga USD: $110369\n",
            "\n",
            "=== API LOGGER: Bitcoin Price ===\n",
            "1. Ambil Data dari API\n",
            "2. Tampilkan Data Terbaru\n",
            "3. Simpan Log ke CSV\n",
            "4. Lihat Semua Log\n",
            "5. Keluar\n",
            "Pilih menu (1-5): 3\n",
            "Data berhasil disimpan ke api_log.csv\n",
            "\n",
            "=== API LOGGER: Bitcoin Price ===\n",
            "1. Ambil Data dari API\n",
            "2. Tampilkan Data Terbaru\n",
            "3. Simpan Log ke CSV\n",
            "4. Lihat Semua Log\n",
            "5. Keluar\n",
            "Pilih menu (1-5): 4\n",
            "\n",
            "Semua Log:\n",
            "1. 2025-07-03 14:07:41 - $110369\n",
            "\n",
            "=== API LOGGER: Bitcoin Price ===\n",
            "1. Ambil Data dari API\n",
            "2. Tampilkan Data Terbaru\n",
            "3. Simpan Log ke CSV\n",
            "4. Lihat Semua Log\n",
            "5. Keluar\n",
            "Pilih menu (1-5): 5\n",
            "Program selesai. Terima kasih!\n"
          ]
        }
      ]
    }
  ]
}