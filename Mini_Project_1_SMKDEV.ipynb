{
  "nbformat": 4,
  "nbformat_minor": 0,
  "metadata": {
    "colab": {
      "provenance": [],
      "authorship_tag": "ABX9TyNbILeE2Q0v6iBdUvboC6XN",
      "include_colab_link": true
    },
    "kernelspec": {
      "name": "python3",
      "display_name": "Python 3"
    },
    "language_info": {
      "name": "python"
    }
  },
  "cells": [
    {
      "cell_type": "markdown",
      "metadata": {
        "id": "view-in-github",
        "colab_type": "text"
      },
      "source": [
        "<a href=\"https://colab.research.google.com/github/BRLTS/SMKDEV/blob/main/Mini_Project_1_SMKDEV.ipynb\" target=\"_parent\"><img src=\"https://colab.research.google.com/assets/colab-badge.svg\" alt=\"Open In Colab\"/></a>"
      ]
    },
    {
      "cell_type": "code",
      "execution_count": 5,
      "metadata": {
        "id": "E4KZylHBtqFM"
      },
      "outputs": [],
      "source": [
        "import random"
      ]
    },
    {
      "cell_type": "code",
      "source": [
        "angka_rahasia = random.randint(1, 10)\n",
        "\n",
        "print(\"Selamat datang di permainan Tebak Angka!\")\n",
        "print(\"Tebak angka dari 1 sampai 10.\")\n",
        "print(\"Kamu punya 3 kesempatan.\")"
      ],
      "metadata": {
        "colab": {
          "base_uri": "https://localhost:8080/"
        },
        "id": "v1KBr0d6uDV-",
        "outputId": "e7e56d5a-0c18-4995-a23d-a3f56c136fe0"
      },
      "execution_count": 6,
      "outputs": [
        {
          "output_type": "stream",
          "name": "stdout",
          "text": [
            "Selamat datang di permainan Tebak Angka!\n",
            "Tebak angka dari 1 sampai 10.\n",
            "Kamu punya 3 kesempatan.\n"
          ]
        }
      ]
    },
    {
      "cell_type": "code",
      "source": [
        "kesempatan = 1\n",
        "maks_kesempatan = 3\n",
        "berhasil = False  # Penanda jika pemain berhasil"
      ],
      "metadata": {
        "id": "yTBFjp7ruFRw"
      },
      "execution_count": 7,
      "outputs": []
    },
    {
      "cell_type": "code",
      "source": [
        "for i in range(3):\n",
        "    try:\n",
        "        tebakan = int(input(f\"Tebakan ke-{i + 1}: \"))\n",
        "\n",
        "        if tebakan < angka_rahasia:\n",
        "            print(\"Terlalu kecil!\")\n",
        "        elif tebakan > angka_rahasia:\n",
        "            print(\"Terlalu besar!\")\n",
        "        else:\n",
        "            print(\"🎉 Selamat! Tebakanmu benar.\")\n",
        "            berhasil = True\n",
        "            break  # Keluar dari loop jika tebakan benar\n",
        "    except ValueError:\n",
        "        print(\"Masukkan harus berupa angka!\")\n",
        "\n",
        "# Kalau pemain gagal menebak sampai akhir\n",
        "if not berhasil:\n",
        "    print(f\"Maaf, kamu gagal menebak. Angka rahasianya adalah {angka_rahasia}.\")\n",
        "\n",
        "print(\"***Permainan Selesai***\")"
      ],
      "metadata": {
        "colab": {
          "base_uri": "https://localhost:8080/"
        },
        "id": "mxPh8IKvuIG6",
        "outputId": "f989d571-1cce-4a19-999a-ffbbe2ce7afe"
      },
      "execution_count": 9,
      "outputs": [
        {
          "output_type": "stream",
          "name": "stdout",
          "text": [
            "Tebakan ke-1: 7\n",
            "Terlalu besar!\n",
            "Tebakan ke-2: 1\n",
            "Terlalu kecil!\n",
            "Tebakan ke-3: 2\n",
            "Terlalu kecil!\n",
            "Maaf, kamu gagal menebak. Angka rahasianya adalah 5.\n",
            "***Permainan Selesai***\n"
          ]
        }
      ]
    },
    {
      "cell_type": "code",
      "source": [],
      "metadata": {
        "id": "vq68mrQhuLcM"
      },
      "execution_count": 8,
      "outputs": []
    }
  ]
}